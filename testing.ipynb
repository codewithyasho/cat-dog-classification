{
 "cells": [
  {
   "cell_type": "code",
   "execution_count": 8,
   "id": "c380c02a",
   "metadata": {},
   "outputs": [
    {
     "name": "stderr",
     "output_type": "stream",
     "text": [
      "WARNING:absl:Compiled the loaded model, but the compiled metrics have yet to be built. `model.compile_metrics` will be empty until you train or evaluate the model.\n"
     ]
    },
    {
     "name": "stdout",
     "output_type": "stream",
     "text": [
      "Prediction: Dog (confidence: 0.78) | model expected input: (256, 256)\n"
     ]
    }
   ],
   "source": [
    "# Infer input size from the model to avoid shape mismatches and use Keras 3 imports\n",
    "import numpy as np\n",
    "from keras.models import load_model\n",
    "from keras.utils import load_img, img_to_array\n",
    "import warnings\n",
    "warnings.filterwarnings(\"ignore\")\n",
    "\n",
    "# Load the saved model (change the filename if needed)\n",
    "model = load_model(\"model.h5\")  # or \"final_model.h5\" / \"best_model.h5\"\n",
    "\n",
    "# Determine expected input size from the model: typically (None, H, W, C)\n",
    "input_shape = model.input_shape\n",
    "if isinstance(input_shape, list):\n",
    "    input_shape = input_shape[0]\n",
    "\n",
    "height, width = (150, 150)\n",
    "if input_shape and len(input_shape) >= 4:\n",
    "    height = input_shape[1] if input_shape[1] is not None else height\n",
    "    width = input_shape[2] if input_shape[2] is not None else width\n",
    "\n",
    "# Load and preprocess the image\n",
    "img_path = \"cat.jpg\"  # path to your test image\n",
    "img = load_img(img_path, target_size=(height, width))\n",
    "img_array = img_to_array(img)\n",
    "img_array = img_array / 255.0\n",
    "img_array = np.expand_dims(img_array, axis=0)\n",
    "\n",
    "# Predict\n",
    "proba = float(model.predict(img_array, verbose=0)[0][0])\n",
    "label = \"Dog\" if proba > 0.5 else \"Cat\"\n",
    "confidence = proba if proba > 0.5 else (1 - proba)\n",
    "print(\n",
    "    f\"Prediction: {label} (confidence: {confidence:.2f}) | model expected input: {(height, width)}\")"
   ]
  }
 ],
 "metadata": {
  "kernelspec": {
   "display_name": "Python 3",
   "language": "python",
   "name": "python3"
  },
  "language_info": {
   "codemirror_mode": {
    "name": "ipython",
    "version": 3
   },
   "file_extension": ".py",
   "mimetype": "text/x-python",
   "name": "python",
   "nbconvert_exporter": "python",
   "pygments_lexer": "ipython3",
   "version": "3.13.6"
  }
 },
 "nbformat": 4,
 "nbformat_minor": 5
}
